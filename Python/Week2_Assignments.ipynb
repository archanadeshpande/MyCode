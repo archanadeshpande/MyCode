{
 "cells": [
  {
   "cell_type": "code",
   "execution_count": 1,
   "metadata": {},
   "outputs": [
    {
     "name": "stdout",
     "output_type": "stream",
     "text": [
      "d\n",
      "SMIDSYTECHNOLOGIES\n"
     ]
    }
   ],
   "source": [
    "#1 String functions\n",
    "str='www.smidsytechnologies.com'\n",
    "print(str[7])\n",
    "print(str[4:22].upper())"
   ]
  },
  {
   "cell_type": "code",
   "execution_count": 10,
   "metadata": {},
   "outputs": [
    {
     "name": "stdout",
     "output_type": "stream",
     "text": [
      "Total cost of 10 pens = $25.00\n"
     ]
    }
   ],
   "source": [
    "#2 Simple arithmetic function \n",
    "price=2.50\n",
    "pens=10\n",
    "print(f'Total cost of 10 pens = ${price*pens:.2f}')"
   ]
  },
  {
   "cell_type": "code",
   "execution_count": 11,
   "metadata": {},
   "outputs": [
    {
     "name": "stdout",
     "output_type": "stream",
     "text": [
      "Please enter side of a square to calculate the area: 6\n",
      "The area of the square is: 36\n"
     ]
    }
   ],
   "source": [
    "#3 Calculate area of a square\n",
    "side = int(input(\"Please enter side of a square to calculate the area: \"))\n",
    "area = side*side\n",
    "print(f'The area of the square is: {area}')"
   ]
  },
  {
   "cell_type": "code",
   "execution_count": 12,
   "metadata": {},
   "outputs": [
    {
     "name": "stdout",
     "output_type": "stream",
     "text": [
      "Please enter principle amount: 10\n",
      "Please enter rate of interest: 5\n",
      "Please enter duration in years: 2\n",
      "Simple interest is: 1.0\n"
     ]
    }
   ],
   "source": [
    "#4 Calculating simple interest\n",
    "p=float(input('Please enter principle amount: '))\n",
    "r=float(input('Please enter rate of interest: '))\n",
    "y=float(input('Please enter duration in years: '))\n",
    "print(f'Simple interest is: {p*r*y/100}')"
   ]
  },
  {
   "cell_type": "code",
   "execution_count": 13,
   "metadata": {},
   "outputs": [
    {
     "name": "stdout",
     "output_type": "stream",
     "text": [
      "Please enter first name: Archana\n",
      "Please enter second name: Gaurav\n",
      "Hello Archana and Gaurav\n"
     ]
    }
   ],
   "source": [
    "#5 Simple print statement\n",
    "name1 = input('Please enter first name: ')\n",
    "name2 = input('Please enter second name: ')\n",
    "print(f'Hello {name1} and {name2}')"
   ]
  },
  {
   "cell_type": "code",
   "execution_count": 14,
   "metadata": {},
   "outputs": [
    {
     "name": "stdout",
     "output_type": "stream",
     "text": [
      "Please enter temperature in degree celcius: 8\n",
      "The temperature in Farenheit is 46.4\n"
     ]
    }
   ],
   "source": [
    "#6 Converting temperature from degree celcius to farenheit\n",
    "cel=float(input('Please enter temperature in degree celcius: '))\n",
    "print(f'The temperature in Farenheit is {cel*9/5+32}')"
   ]
  },
  {
   "cell_type": "code",
   "execution_count": 19,
   "metadata": {},
   "outputs": [
    {
     "name": "stdout",
     "output_type": "stream",
     "text": [
      "Please enter the customer number: 56\n",
      "Please enter name: jjh\n",
      "Please enter last months reading: 60\n",
      "Please enter current months reading: 1100\n",
      "Amount payable to the electricity department = Rs 6240.0\n"
     ]
    }
   ],
   "source": [
    "#7 Calculating electricity bill\n",
    "num=input('Please enter the customer number: ')\n",
    "name=input('Please enter name: ')\n",
    "last=float(input('Please enter last months reading: '))\n",
    "curr=float(input('Please enter current months reading: '))\n",
    "con=curr-last\n",
    "if con <= 100:\n",
    "    print(f'Amount payable to the electricity department = Rs {con*4}')\n",
    "elif 100 < con <= 500:\n",
    "    print(f'Amount payable to the electricity department = Rs {con*5}')\n",
    "else:\n",
    "    print(f'Amount payable to the electricity department = Rs {con*6}')\n",
    "\n"
   ]
  },
  {
   "cell_type": "code",
   "execution_count": 54,
   "metadata": {},
   "outputs": [
    {
     "name": "stdout",
     "output_type": "stream",
     "text": [
      "First Pattern:\n",
      "1 \n",
      "2 2 \n",
      "3 3 3 \n",
      "4 4 4 4 \n",
      "5 5 5 5 5 \n",
      "\n",
      "Second Pattern:\n",
      "        1 \n",
      "      2 2 \n",
      "    3 3 3 \n",
      "  4 4 4 4 \n",
      "5 5 5 5 5 \n",
      "\n",
      "Third Pattern:\n",
      "5 5 5 5 5 \n",
      "4 4 4 4 \n",
      "3 3 3 \n",
      "2 2 \n",
      "1 \n",
      "\n",
      "Fourth Pattern:\n",
      "5 5 5 5 5 \n",
      "  4 4 4 4 \n",
      "    3 3 3 \n",
      "      2 2 \n",
      "        1 \n"
     ]
    }
   ],
   "source": [
    "#8 Printing pyramid patterns\n",
    "max=6\n",
    "print('First Pattern:')\n",
    "for i in range(1,max):\n",
    "    for j in range(i):\n",
    "        print(i, end=' ')\n",
    "    print()\n",
    "    \n",
    "print('\\nSecond Pattern:')\n",
    "for i in range(1,max):\n",
    "    for j in range(max-1,0,-1):\n",
    "        if j>i:\n",
    "            print(' ',end=' ')\n",
    "        else:\n",
    "            print(i, end=' ')\n",
    "    print()\n",
    "    \n",
    "print('\\nThird Pattern:')\n",
    "for i in range(max-1,0,-1):\n",
    "    for j in range(i):\n",
    "        print(i, end=' ')\n",
    "    print()\n",
    "    \n",
    "print('\\nFourth Pattern:')\n",
    "for i in range(max-1,0,-1):\n",
    "    for j in range(max-1,0,-1):\n",
    "        if j>i:\n",
    "            print(' ',end=' ')\n",
    "        else:\n",
    "            print(i, end=' ')\n",
    "    print()"
   ]
  },
  {
   "cell_type": "code",
   "execution_count": 64,
   "metadata": {},
   "outputs": [
    {
     "name": "stdout",
     "output_type": "stream",
     "text": [
      "Please enter a number: 37\n",
      "37 is prime number\n"
     ]
    }
   ],
   "source": [
    "#9 Verifying if number is prime or not\n",
    "j=0\n",
    "num=int(input('Please enter a number: '))\n",
    "for i in range(2,int(num/2)):\n",
    "    if num % i == 0:\n",
    "        #print(i)\n",
    "        j=1\n",
    "        break\n",
    "if j == 0:\n",
    "    print(f'{num} is prime number')\n",
    "else:\n",
    "    print(f'{num} is not a prime number')\n"
   ]
  },
  {
   "cell_type": "code",
   "execution_count": 69,
   "metadata": {},
   "outputs": [
    {
     "name": "stdout",
     "output_type": "stream",
     "text": [
      "2 3 5 7 11 13 17 19 23 29 31 37 41 43 47 "
     ]
    }
   ],
   "source": [
    "#10 Printing all prime numbers between 1 and 50\n",
    "for num in range(1,51):  \n",
    "    if num > 1:  \n",
    "        for i in range(2,num):  \n",
    "            if (num % i) == 0:  \n",
    "                break  \n",
    "        else:  \n",
    "            print(num,end=' ')  \n",
    "        \n"
   ]
  },
  {
   "cell_type": "code",
   "execution_count": null,
   "metadata": {},
   "outputs": [],
   "source": []
  }
 ],
 "metadata": {
  "kernelspec": {
   "display_name": "Python 3",
   "language": "python",
   "name": "python3"
  },
  "language_info": {
   "codemirror_mode": {
    "name": "ipython",
    "version": 3
   },
   "file_extension": ".py",
   "mimetype": "text/x-python",
   "name": "python",
   "nbconvert_exporter": "python",
   "pygments_lexer": "ipython3",
   "version": "3.8.5"
  }
 },
 "nbformat": 4,
 "nbformat_minor": 4
}
