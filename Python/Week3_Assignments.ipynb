{
 "cells": [
  {
   "cell_type": "code",
   "execution_count": 39,
   "metadata": {},
   "outputs": [
    {
     "name": "stdout",
     "output_type": "stream",
     "text": [
      "How many fibonacci numbers do you want? 2\n",
      "0 1\n"
     ]
    }
   ],
   "source": [
    "#1: Fibonacci series\n",
    "def fibo(cnt):\n",
    "    i=1\n",
    "    if(cnt==0):fib = []\n",
    "    elif (cnt == 1):fib = [0]\n",
    "    elif (cnt == 2):fib = [0,1]\n",
    "    elif (cnt > 2):fib = [0,1]\n",
    "    while i < cnt-1:\n",
    "        fib.append(fib[i]+fib[i-1])\n",
    "        i+=1\n",
    "    return ' '.join(map(str,fib))\n",
    "    \n",
    "try:       \n",
    "    cnt = int(input('How many fibonacci numbers do you want? ')) \n",
    "    print(fibo(cnt))\n",
    "except:\n",
    "    print('Please enter valid number.')  \n",
    "    "
   ]
  },
  {
   "cell_type": "code",
   "execution_count": 42,
   "metadata": {},
   "outputs": [
    {
     "name": "stdout",
     "output_type": "stream",
     "text": [
      "Enter number to add, 0 to quit: 10\n",
      "Enter number to add, 0 to quit: f\n",
      "Please enter valid number.\n",
      "Enter number to add, 0 to quit: 60\n",
      "Enter number to add, 0 to quit: 0\n",
      "Total is:  70\n"
     ]
    }
   ],
   "source": [
    "#2: Add numbers till user enters 0\n",
    "def addnum():\n",
    "    num, flag = 0, True\n",
    "    while flag:\n",
    "        try:       \n",
    "            cnt = int(input('Enter number to add, 0 to quit: ')) \n",
    "            num+=cnt\n",
    "            if cnt == 0:\n",
    "                flag =False\n",
    "        except:\n",
    "            print('Please enter valid number.')\n",
    "    print('Total is: ', num)\n",
    "\n",
    "addnum()"
   ]
  },
  {
   "cell_type": "code",
   "execution_count": 57,
   "metadata": {},
   "outputs": [
    {
     "name": "stdout",
     "output_type": "stream",
     "text": [
      "Enter degree of polynomial: 5\n",
      "Enter x: 2\n",
      "Summation of series 2^0+2^1+2^2+2^3+2^4+2^5 is 63\n"
     ]
    }
   ],
   "source": [
    "#3: Polynomial derivation for series x^0+x^1+x^3...+x^n\n",
    "def poly():\n",
    "    i=res=0\n",
    "    try:       \n",
    "        n = int(input('Enter degree of polynomial: ')) \n",
    "        x = int(input('Enter x: ')) \n",
    "        while i<= n:\n",
    "            res+=(x**i)\n",
    "            i+=1\n",
    "        print('Summation of series '+'+'.join(str(x)+'^'+str(j) for j in range(n+1)),'is',res)\n",
    "    except:\n",
    "        print('Please enter valid number.')\n",
    "poly()"
   ]
  },
  {
   "cell_type": "code",
   "execution_count": 61,
   "metadata": {},
   "outputs": [
    {
     "name": "stdout",
     "output_type": "stream",
     "text": [
      "Enter number to derive factors: 30\n",
      "Factors of 30 are 1,2,3,5,6,10,15,30\n"
     ]
    }
   ],
   "source": [
    "#4: Calculating factors of a number\n",
    "def factors():\n",
    "    factor=[]\n",
    "    try:       \n",
    "        n = int(input('Enter number to derive factors: '))  \n",
    "        for i in range(1,n+1):\n",
    "            if(n % i == 0):\n",
    "                factor.append(i)\n",
    "        print(f'Factors of {n} are '+','.join(map(str,factor)))\n",
    "    except:\n",
    "        print('Please enter valid number.')\n",
    "factors()"
   ]
  },
  {
   "cell_type": "code",
   "execution_count": 64,
   "metadata": {},
   "outputs": [
    {
     "name": "stdout",
     "output_type": "stream",
     "text": [
      "Enter number to check if its Armstrong number or not: 153\n",
      "The number 153 is an Armstrong number\n"
     ]
    }
   ],
   "source": [
    "#5: Checking if a number is Armstrong or not\n",
    "def amrstrong():\n",
    "    sum=0\n",
    "    try:       \n",
    "        n = int(input('Enter number to check if its Armstrong number or not: ')) \n",
    "        num = n\n",
    "        while num>0:\n",
    "            digit = num % 10\n",
    "            sum+=digit**3\n",
    "            num //=10\n",
    "        if n == sum:\n",
    "            print(f'The number {n} is an Armstrong number')\n",
    "        else:\n",
    "            print(f'The number {n} is not an Armstrong number')\n",
    "    except:\n",
    "        print('Please enter valid number.')\n",
    "amrstrong()"
   ]
  },
  {
   "cell_type": "code",
   "execution_count": null,
   "metadata": {},
   "outputs": [],
   "source": []
  }
 ],
 "metadata": {
  "kernelspec": {
   "display_name": "Python 3",
   "language": "python",
   "name": "python3"
  },
  "language_info": {
   "codemirror_mode": {
    "name": "ipython",
    "version": 3
   },
   "file_extension": ".py",
   "mimetype": "text/x-python",
   "name": "python",
   "nbconvert_exporter": "python",
   "pygments_lexer": "ipython3",
   "version": "3.8.5"
  }
 },
 "nbformat": 4,
 "nbformat_minor": 4
}
