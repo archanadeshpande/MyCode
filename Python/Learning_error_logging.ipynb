{
 "cells": [
  {
   "cell_type": "code",
   "execution_count": 1,
   "metadata": {},
   "outputs": [
    {
     "data": {
      "text/plain": [
       "'\\nLevel        Numeric Value\\nnot set      0\\ndebug        10\\ninfo         20\\nwarning      30\\nerror        40\\ncritical     50\\n'"
      ]
     },
     "execution_count": 1,
     "metadata": {},
     "output_type": "execute_result"
    }
   ],
   "source": [
    "\"\"\"\n",
    "Level        Numeric Value\n",
    "not set      0\n",
    "debug        10\n",
    "info         20\n",
    "warning      30\n",
    "error        40\n",
    "critical     50\n",
    "\"\"\""
   ]
  },
  {
   "cell_type": "code",
   "execution_count": 1,
   "metadata": {},
   "outputs": [
    {
     "name": "stdout",
     "output_type": "stream",
     "text": [
      "30\n",
      "10\n",
      "10\n"
     ]
    }
   ],
   "source": [
    "import logging\n",
    "logging.basicConfig(filename=\"C:/Users/Admin/OneDrive/Desktop/PythonPractice/python.logs\") \n",
    "#if file already present, it will append\n",
    "\n",
    "#faced error:\n",
    "#SyntaxError: (unicode error) 'unicodeescape' codec can't decode bytes in position 2-3: truncated \\UXXXXXXXX escape\n",
    "#Resolved by substituting \\ with /, other way is r\"path\" \n",
    "\n",
    "logger = logging.getLogger() #below i missed adding this step and i did not get expected results\n",
    "\n",
    "\n",
    "#testing the logger\n",
    "logger.info(\"This is my info logger\")\n",
    "print(logger.level)\n",
    "\n",
    "#default logger level for basicConfig is 30\n",
    "\n",
    "#setting the log level to debug\n",
    "logger.setLevel(logging.DEBUG) #Python is case sensitive\n",
    "logger.info(\"This is my info logger\")\n",
    "print(logger.level)\n",
    "\n",
    "\n"
   ]
  },
  {
   "cell_type": "code",
   "execution_count": 2,
   "metadata": {},
   "outputs": [
    {
     "name": "stdout",
     "output_type": "stream",
     "text": [
      "10\n"
     ]
    }
   ],
   "source": [
    "#------------------------------------------------------------\n",
    "#adding time formats\n",
    "import logging\n",
    "log_format = \"%(levelname)s %(asctime)s - %(message)s\"\n",
    "\n",
    "logging.basicConfig(filename=\"C:/Users/Admin/OneDrive/Desktop/PythonPractice/pythonLogs.logs\", format=log_format) \n",
    "logger = logging.getLogger()\n",
    "#Why to restart the kernal? for session level one logger level is set and it might result in inappropriate results #verified\n",
    "\n",
    "logger.setLevel(logging.DEBUG) \n",
    "logger.info(\"This is my info logger\")\n",
    "print(logger.level)"
   ]
  },
  {
   "cell_type": "code",
   "execution_count": 1,
   "metadata": {},
   "outputs": [
    {
     "name": "stdout",
     "output_type": "stream",
     "text": [
      "10\n"
     ]
    }
   ],
   "source": [
    "#------------------------------------------------------------\n",
    "#overwriting the log data\n",
    "\n",
    "import logging\n",
    "log_format = \"%(levelname)s %(asctime)s - %(message)s\"\n",
    "\n",
    "logging.basicConfig(filename=\"C:/Users/Admin/OneDrive/Desktop/PythonPractice/pythonLogs.logs\", format=log_format,filemode='w') \n",
    "logger = logging.getLogger()\n",
    "#Why to restart the kernal? for session level one logger level is set and it might result in inappropriate results #verified\n",
    "\n",
    "logger.setLevel(logging.DEBUG) \n",
    "logger.info(\"This is my overwrite info logger\")\n",
    "print(logger.level)"
   ]
  },
  {
   "cell_type": "code",
   "execution_count": 3,
   "metadata": {},
   "outputs": [
    {
     "name": "stdout",
     "output_type": "stream",
     "text": [
      "40\n"
     ]
    }
   ],
   "source": [
    "#Writing all log levels:\n",
    "\n",
    "import logging\n",
    "log_format = \"%(levelname)s %(asctime)s - %(message)s\"\n",
    "\n",
    "logging.basicConfig(filename=\"C:/Users/Admin/OneDrive/Desktop/PythonPractice/pythonLogs.logs\", format=log_format,filemode='w') \n",
    "logger = logging.getLogger()\n",
    "#Why to restart the kernal? for session level one logger level is set and it might result in inappropriate results #verified\n",
    "\n",
    "logger.setLevel(logging.ERROR) \n",
    "logger.debug(\"This is my  debug logger\")\n",
    "logger.info(\"This is my  info logger\")\n",
    "logger.warning(\"This is my  warning logger\")\n",
    "logger.error(\"This is my error info logger\")\n",
    "logger.critical(\"This is my critical info logger\")\n",
    "print(logger.level)"
   ]
  },
  {
   "cell_type": "code",
   "execution_count": null,
   "metadata": {},
   "outputs": [],
   "source": []
  }
 ],
 "metadata": {
  "kernelspec": {
   "display_name": "Python 3",
   "language": "python",
   "name": "python3"
  },
  "language_info": {
   "codemirror_mode": {
    "name": "ipython",
    "version": 3
   },
   "file_extension": ".py",
   "mimetype": "text/x-python",
   "name": "python",
   "nbconvert_exporter": "python",
   "pygments_lexer": "ipython3",
   "version": "3.8.5"
  }
 },
 "nbformat": 4,
 "nbformat_minor": 4
}
